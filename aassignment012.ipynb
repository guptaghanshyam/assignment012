{
 "cells": [
  {
   "cell_type": "markdown",
   "metadata": {},
   "source": [
    "1.what is an exception in python ? write a difference between exceptions and syntax errors"
   ]
  },
  {
   "cell_type": "markdown",
   "metadata": {},
   "source": [
    "Ans: an exception is an error that occurs during the execution of a program due to unexpected or exceptional conditions.\n"
   ]
  },
  {
   "cell_type": "markdown",
   "metadata": {},
   "source": [
    "2.what happened when an exception is not handled ? explain with an example."
   ]
  },
  {
   "cell_type": "markdown",
   "metadata": {},
   "source": [
    "Ans: when an exception is not handled in python, it leads to an unhandled exception which causes the program execution to terminate abruptly. when the interpeter encounter an unhandled exception, it prints to traceback that shows the sequence of function calls that led to the exception and display an error message explaing the causes of the exception. after prininting the traceback and error message the program terminates"
   ]
  },
  {
   "cell_type": "code",
   "execution_count": 5,
   "metadata": {},
   "outputs": [
    {
     "name": "stdout",
     "output_type": "stream",
     "text": [
      "result: 5.0\n"
     ]
    }
   ],
   "source": [
    "def divide_number(a,b):\n",
    "    return a/b\n",
    "\n",
    "def main():\n",
    "    num1=10\n",
    "    num2=2\n",
    "    result = divide_number(num1,num2)\n",
    "    print(\"result:\",result)\n",
    "\n",
    "if __name__==\"__main__\":\n",
    "    main()"
   ]
  },
  {
   "cell_type": "markdown",
   "metadata": {},
   "source": [
    "3.which python statements are used to catch and handled exceptions? explain with an example"
   ]
  },
  {
   "cell_type": "markdown",
   "metadata": {},
   "source": [
    "\n",
    "In Python, the try and except statements are used to catch and handle exceptions. The basic syntax for handling exceptions using try-except is as follows:"
   ]
  },
  {
   "cell_type": "code",
   "execution_count": 6,
   "metadata": {},
   "outputs": [
    {
     "name": "stdout",
     "output_type": "stream",
     "text": [
      "Error: Division by zero is not allowed.\n",
      "Exception details: division by zero\n"
     ]
    }
   ],
   "source": [
    "def divide_numbers(a, b):\n",
    "    return a / b\n",
    "\n",
    "def main():\n",
    "    num1 = 10\n",
    "    num2 = 0\n",
    "    try:\n",
    "        result = divide_numbers(num1, num2)\n",
    "        print(\"Result:\", result)\n",
    "    except ZeroDivisionError as e:\n",
    "        print(\"Error: Division by zero is not allowed.\")\n",
    "        print(\"Exception details:\", e)\n",
    "\n",
    "if __name__ == \"__main__\":\n",
    "    main()\n"
   ]
  },
  {
   "cell_type": "markdown",
   "metadata": {},
   "source": [
    "4.explain with an example\n",
    "a.try and else\n",
    "\n",
    "b.finally\n",
    "\n",
    "c.raise"
   ]
  },
  {
   "cell_type": "markdown",
   "metadata": {},
   "source": [
    "Ans: the 'try', and 'else' statements are used together to handled excetions in python. the 'try' block contains the code that may raise an exceptions ,and 'else' block conatins code that will be executed if no exception occurs."
   ]
  },
  {
   "cell_type": "code",
   "execution_count": 10,
   "metadata": {},
   "outputs": [
    {
     "name": "stdout",
     "output_type": "stream",
     "text": [
      "resulr 5.0\n",
      "error: divide by zero is not possible\n"
     ]
    }
   ],
   "source": [
    "def divide_number(a,b):\n",
    "    try:\n",
    "        result = a/b\n",
    "    except ZeroDivisionError:\n",
    "        print(\"error: divide by zero is not possible\")\n",
    "    else:\n",
    "        print(\"resulr\",result)\n",
    "\n",
    "def main():\n",
    "    n1=10\n",
    "    n2=2\n",
    "    divide_number(n1,n2)\n",
    "    \n",
    "\n",
    "    n3=10\n",
    "    n4=0\n",
    "    divide_number(n3,n4)\n",
    "\n",
    "if __name__==\"__main__\":\n",
    "    main()"
   ]
  },
  {
   "cell_type": "markdown",
   "metadata": {},
   "source": [
    "b.finally\n",
    "The finally block is used along with the try and except blocks. It contains code that will be executed regardless of whether an exception occurred or not. This block is useful for performing cleanup actions or releasing resources that need to be done, regardless of the exceptional situation."
   ]
  },
  {
   "cell_type": "code",
   "execution_count": 12,
   "metadata": {},
   "outputs": [
    {
     "name": "stdout",
     "output_type": "stream",
     "text": [
      "resulr 5.0\n",
      "division operation complete\n",
      "error: divide by zero is not possible\n",
      "division operation complete\n"
     ]
    }
   ],
   "source": [
    "def divide_number(a,b):\n",
    "    try:\n",
    "        result = a/b\n",
    "        print(\"resulr\",result)\n",
    "    except ZeroDivisionError:\n",
    "        print(\"error: divide by zero is not possible\")\n",
    "    finally:\n",
    "        print(\"division operation complete\")\n",
    "\n",
    "def main():\n",
    "    n1=10\n",
    "    n2=2\n",
    "    divide_number(n1,n2)\n",
    "    \n",
    "\n",
    "    n3=10\n",
    "    n4=0\n",
    "    divide_number(n3,n4)\n",
    "\n",
    "if __name__==\"__main__\":\n",
    "    main()"
   ]
  },
  {
   "cell_type": "markdown",
   "metadata": {},
   "source": [
    "c.raise\n",
    "The raise keyword is used to manually raise an exception in Python. You can raise built-in exceptions or create custom ones as per your needs. When an exception is raised, it interrupts the normal flow of the program and transfers control to the nearest except block that can handle that specific exception."
   ]
  },
  {
   "cell_type": "code",
   "execution_count": 14,
   "metadata": {},
   "outputs": [
    {
     "name": "stdout",
     "output_type": "stream",
     "text": [
      "resulr 5.0\n",
      "division operation complete\n",
      "error: divide by zero is not possible\n",
      "division operation complete\n"
     ]
    }
   ],
   "source": [
    "def check_age(age):\n",
    "    if age <0:\n",
    "        raise ValueError(\"age cannot be negative\")\n",
    "    elif age < 18:\n",
    "        raise Exception(\"you must be atleast 18 years old\")\n",
    "    \n",
    "def amin():\n",
    "    try:\n",
    "        user_age = int(input(\"Enter your age: \"))\n",
    "        check_age(user_age)\n",
    "        print(\"You are eligible.\")\n",
    "    except ValueError as ve:\n",
    "        print(\"Error:\", ve)\n",
    "    except Exception as e:\n",
    "        print(\"Error:\", e)\n",
    "\n",
    "if __name__ == \"__main__\":\n",
    "    main()\n",
    "        "
   ]
  },
  {
   "cell_type": "markdown",
   "metadata": {},
   "source": [
    "5.what is custom exception in python > why do we need custom exception ? explain with an example ?"
   ]
  },
  {
   "cell_type": "markdown",
   "metadata": {},
   "source": [
    " custom exceptions are user-defined exceptions created by deriving classes from the built-in Exception class or its subclasses. By creating custom exceptions, developers can define their specific exception types to represent distinct error scenarios that may arise in their programs. Custom exceptions enhance code readability, provide more meaningful error messages, and allow for better exception handling and debugging."
   ]
  },
  {
   "cell_type": "markdown",
   "metadata": {},
   "source": [
    "we need custom exception because of the following reasons:\n",
    "1.Clarity and Readability\n",
    "\n",
    "2.granual Exception Handling\n",
    "\n",
    "3.Hierarchical exception Handling\n",
    "\n"
   ]
  },
  {
   "cell_type": "code",
   "execution_count": 18,
   "metadata": {},
   "outputs": [
    {
     "name": "stdout",
     "output_type": "stream",
     "text": [
      "result 4.0\n"
     ]
    }
   ],
   "source": [
    "class invalidinputerror(Exception):\n",
    "    def __init__(self,message):\n",
    "        super().__init__(message)\n",
    "        self.message=message\n",
    "\n",
    "def divide_number(a,b):\n",
    "    if not(isinstance(a,(int,float)) and isinstance(b,(int,float))):\n",
    "        raise invalidinputerror(\"both input must be numeric\")\n",
    "    \n",
    "    if b==0:\n",
    "        raise ZeroDivisionError(\"divide by 0 is not allowed\")\n",
    "    \n",
    "    return a/b\n",
    "def main():\n",
    "    try:\n",
    "        num1 = float(input(\"enter your first number:\"))\n",
    "        num2 = float(input(\"enter your second number:\"))\n",
    "\n",
    "        result = divide_number(num1,num2)\n",
    "        print(\"result\",result)\n",
    "    except InvalidInputError as iie:\n",
    "        print(\"Error:\", iie)\n",
    "    except ZeroDivisionError as zde:\n",
    "        print(\"Error:\", zde)\n",
    "    except Exception as e:\n",
    "        print(\"An unexpected error occurred:\", e)\n",
    "\n",
    "if __name__ == \"__main__\":\n",
    "    main()"
   ]
  },
  {
   "cell_type": "markdown",
   "metadata": {},
   "source": [
    "6.create a custom exception class.use this class to handle an exception"
   ]
  },
  {
   "cell_type": "code",
   "execution_count": 19,
   "metadata": {},
   "outputs": [
    {
     "name": "stdout",
     "output_type": "stream",
     "text": [
      "The factorial of 10 is: 3628800\n"
     ]
    }
   ],
   "source": [
    "class CustomError(Exception):\n",
    "    def __init__(self, message):\n",
    "        super().__init__(message)\n",
    "        self.message = message\n",
    "\n",
    "def factorial(n):\n",
    "    if n < 0:\n",
    "        raise CustomError(\"Factorial is not defined for negative numbers.\")\n",
    "    elif n == 0 or n == 1:\n",
    "        return 1\n",
    "    else:\n",
    "        return n * factorial(n - 1)\n",
    "\n",
    "def main():\n",
    "    try:\n",
    "        num = int(input(\"Enter a positive integer to calculate its factorial: \"))\n",
    "        result = factorial(num)\n",
    "        print(f\"The factorial of {num} is: {result}\")\n",
    "    except CustomError as ce:\n",
    "        print(\"Error:\", ce)\n",
    "    except ValueError:\n",
    "        print(\"Error: Please enter a valid integer.\")\n",
    "\n",
    "if __name__ == \"__main__\":\n",
    "    main()\n"
   ]
  },
  {
   "cell_type": "code",
   "execution_count": null,
   "metadata": {},
   "outputs": [],
   "source": []
  }
 ],
 "metadata": {
  "kernelspec": {
   "display_name": "base",
   "language": "python",
   "name": "python3"
  },
  "language_info": {
   "codemirror_mode": {
    "name": "ipython",
    "version": 3
   },
   "file_extension": ".py",
   "mimetype": "text/x-python",
   "name": "python",
   "nbconvert_exporter": "python",
   "pygments_lexer": "ipython3",
   "version": "3.10.9"
  },
  "orig_nbformat": 4
 },
 "nbformat": 4,
 "nbformat_minor": 2
}
